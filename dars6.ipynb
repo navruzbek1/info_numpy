{
  "nbformat": 4,
  "nbformat_minor": 0,
  "metadata": {
    "colab": {
      "name": "dars6.ipynb",
      "provenance": []
    },
    "kernelspec": {
      "name": "python3",
      "display_name": "Python 3"
    },
    "language_info": {
      "name": "python"
    }
  },
  "cells": [
    {
      "cell_type": "markdown",
      "source": [
        "# Arifmetik amallar\n",
        "\n",
        "---\n",
        "\n",
        "\n",
        "\n",
        "                                                                                                                 created by Navruzbek_Abduganiyev"
      ],
      "metadata": {
        "id": "HqCcwmjqPNRu"
      }
    },
    {
      "cell_type": "code",
      "source": [
        "import numpy as np"
      ],
      "metadata": {
        "id": "bNUEbR4cQCxV"
      },
      "execution_count": 3,
      "outputs": []
    },
    {
      "cell_type": "code",
      "execution_count": 4,
      "metadata": {
        "colab": {
          "base_uri": "https://localhost:8080/"
        },
        "id": "0wG1hAkqPM4T",
        "outputId": "0af2bc42-3382-4950-8c78-fc4ddc34ad39"
      },
      "outputs": [
        {
          "output_type": "stream",
          "name": "stdout",
          "text": [
            "[[0 1 2]\n",
            " [3 4 5]]\n",
            "[[ 6  7  8]\n",
            " [ 9 10 11]]\n"
          ]
        }
      ],
      "source": [
        "#massivga yo'naltirilgan dasturlash\n",
        "arr1=np.arange(6).reshape(2,3)\n",
        "arr2=np.arange(6,12).reshape(2,3)\n",
        "print(arr1,end=\"\\n\")\n",
        "print(arr2)"
      ]
    },
    {
      "cell_type": "code",
      "source": [
        "#kopaytiramiz \n",
        "arr1 * arr2"
      ],
      "metadata": {
        "colab": {
          "base_uri": "https://localhost:8080/"
        },
        "id": "ez4Ize6_QAUU",
        "outputId": "b437b58f-09c1-4db2-efad-8f7f9e1ecdd1"
      },
      "execution_count": 5,
      "outputs": [
        {
          "output_type": "execute_result",
          "data": {
            "text/plain": [
              "array([[ 0,  7, 16],\n",
              "       [27, 40, 55]])"
            ]
          },
          "metadata": {},
          "execution_count": 5
        }
      ]
    },
    {
      "cell_type": "code",
      "source": [
        "#qoshamiz\n",
        "arr1 + arr2"
      ],
      "metadata": {
        "colab": {
          "base_uri": "https://localhost:8080/"
        },
        "id": "TwRA-2FJQOht",
        "outputId": "41dcfcf3-edcc-4ebf-ca56-3e4e97593439"
      },
      "execution_count": 6,
      "outputs": [
        {
          "output_type": "execute_result",
          "data": {
            "text/plain": [
              "array([[ 6,  8, 10],\n",
              "       [12, 14, 16]])"
            ]
          },
          "metadata": {},
          "execution_count": 6
        }
      ]
    },
    {
      "cell_type": "code",
      "source": [
        "#ayiramiz\n",
        "arr1 - arr2"
      ],
      "metadata": {
        "colab": {
          "base_uri": "https://localhost:8080/"
        },
        "id": "b9D-tQSTQTGT",
        "outputId": "ddb43f32-c28d-4953-c824-c9c22f245cf8"
      },
      "execution_count": 7,
      "outputs": [
        {
          "output_type": "execute_result",
          "data": {
            "text/plain": [
              "array([[-6, -6, -6],\n",
              "       [-6, -6, -6]])"
            ]
          },
          "metadata": {},
          "execution_count": 7
        }
      ]
    },
    {
      "cell_type": "code",
      "source": [
        "#bolamiz \n",
        "arr1 / arr2"
      ],
      "metadata": {
        "colab": {
          "base_uri": "https://localhost:8080/"
        },
        "id": "h6pcEJi5QXJq",
        "outputId": "7a329d56-6ba2-4dd0-f9af-a4b2f6f94fc8"
      },
      "execution_count": 10,
      "outputs": [
        {
          "output_type": "execute_result",
          "data": {
            "text/plain": [
              "array([[0.        , 0.14285714, 0.25      ],\n",
              "       [0.33333333, 0.4       , 0.45454545]])"
            ]
          },
          "metadata": {},
          "execution_count": 10
        }
      ]
    },
    {
      "cell_type": "code",
      "source": [
        "#kvadratga oshiramiz\n",
        "arr1**arr2"
      ],
      "metadata": {
        "colab": {
          "base_uri": "https://localhost:8080/"
        },
        "id": "1JZDckzSQZ1H",
        "outputId": "33db4068-ddff-484a-f699-7faf4ed573fb"
      },
      "execution_count": 11,
      "outputs": [
        {
          "output_type": "execute_result",
          "data": {
            "text/plain": [
              "array([[       0,        1,      256],\n",
              "       [   19683,  1048576, 48828125]])"
            ]
          },
          "metadata": {},
          "execution_count": 11
        }
      ]
    },
    {
      "cell_type": "code",
      "source": [
        " # Hulosa qilib aytadigan bolsak , arifmetik amallarni oddiy hisoblashdek qilishimiz mukin\n",
        " "
      ],
      "metadata": {
        "id": "ydxQQibeQlc0"
      },
      "execution_count": 1,
      "outputs": []
    },
    {
      "cell_type": "code",
      "source": [
        ""
      ],
      "metadata": {
        "id": "5c4nY84jMle5"
      },
      "execution_count": null,
      "outputs": []
    },
    {
      "cell_type": "markdown",
      "source": [
        "# Massivga yo'naltirilgan dasturlash\n",
        "**Matematik va Statik amallarni qo'llash**"
      ],
      "metadata": {
        "id": "2zt93XHGMmFd"
      }
    },
    {
      "cell_type": "markdown",
      "source": [
        "\n",
        "\n",
        "*   sum\n",
        "*   mean\n",
        "\n",
        "*   std, var\n",
        "\n",
        "*   min, max\n",
        "\n",
        "*   cumsum\n",
        "*   cumprod\n",
        "\n",
        "\n",
        "\n"
      ],
      "metadata": {
        "id": "b17hgzYhNHg7"
      }
    },
    {
      "cell_type": "code",
      "source": [
        "#statik amallarni qo'llash\n",
        "arr=np.random.randn(4,5)\n",
        "arr"
      ],
      "metadata": {
        "colab": {
          "base_uri": "https://localhost:8080/"
        },
        "id": "lzsaXHSPNbGx",
        "outputId": "7f44008d-42e6-4808-92ee-935ba535f2c0"
      },
      "execution_count": 4,
      "outputs": [
        {
          "output_type": "execute_result",
          "data": {
            "text/plain": [
              "array([[ 0.73674875,  0.24687243,  0.0710977 , -0.67660165, -1.25077757],\n",
              "       [-2.67357514,  0.48302884,  1.20478477, -0.45239058,  0.88705674],\n",
              "       [-0.42088916,  0.04286222, -0.01504751, -0.7272064 , -0.12637005],\n",
              "       [-0.48947492,  0.73331215,  0.09054411, -0.51575474, -0.76548494]])"
            ]
          },
          "metadata": {},
          "execution_count": 4
        }
      ]
    },
    {
      "cell_type": "code",
      "source": [
        "np.sum(arr)  # arr massivlarni yig'indisini qaytaradi"
      ],
      "metadata": {
        "colab": {
          "base_uri": "https://localhost:8080/"
        },
        "id": "GvaS_blLND7G",
        "outputId": "66d220a7-3743-46c9-ddba-83ab65faf380"
      },
      "execution_count": 5,
      "outputs": [
        {
          "output_type": "execute_result",
          "data": {
            "text/plain": [
              "-3.6172649479108765"
            ]
          },
          "metadata": {},
          "execution_count": 5
        }
      ]
    },
    {
      "cell_type": "code",
      "source": [
        "np.sum(arr)"
      ],
      "metadata": {
        "colab": {
          "base_uri": "https://localhost:8080/"
        },
        "id": "boIkPdMNNnEY",
        "outputId": "919b6fe9-bee9-485e-a0ab-5f785cc7d402"
      },
      "execution_count": 6,
      "outputs": [
        {
          "output_type": "execute_result",
          "data": {
            "text/plain": [
              "-3.6172649479108765"
            ]
          },
          "metadata": {},
          "execution_count": 6
        }
      ]
    },
    {
      "cell_type": "code",
      "source": [
        "arr.sum()"
      ],
      "metadata": {
        "colab": {
          "base_uri": "https://localhost:8080/"
        },
        "id": "oUSmRtVRN0rP",
        "outputId": "21e9e9ea-c7f9-4f05-d1ca-4dbef68cc457"
      },
      "execution_count": 7,
      "outputs": [
        {
          "output_type": "execute_result",
          "data": {
            "text/plain": [
              "-3.6172649479108765"
            ]
          },
          "metadata": {},
          "execution_count": 7
        }
      ]
    },
    {
      "cell_type": "code",
      "source": [
        "#  3 hil usulda statik amalllarni qo'llashimiz mumkin"
      ],
      "metadata": {
        "id": "vM_WsjYoN3co"
      },
      "execution_count": null,
      "outputs": []
    },
    {
      "cell_type": "code",
      "source": [
        "#shunungdek ushbu amallarni ustularga ham bersak ham bo'ladi"
      ],
      "metadata": {
        "id": "d_hqSXATOE5I"
      },
      "execution_count": 8,
      "outputs": []
    },
    {
      "cell_type": "code",
      "source": [
        "arr.sum(axis=1)"
      ],
      "metadata": {
        "colab": {
          "base_uri": "https://localhost:8080/"
        },
        "id": "lT6Z_FDeOMwe",
        "outputId": "10b23ab4-9f82-4aad-ce59-a18a266efb3c"
      },
      "execution_count": 10,
      "outputs": [
        {
          "output_type": "execute_result",
          "data": {
            "text/plain": [
              "array([-0.87266034, -0.55109536, -1.2466509 , -0.94685834])"
            ]
          },
          "metadata": {},
          "execution_count": 10
        }
      ]
    },
    {
      "cell_type": "code",
      "source": [
        "#  mean() bu o'racha qiymat\n",
        "#  mean()  metodini ham ko'radigan bo'lsak\n",
        "arr.mean()  # massiv  barcha elementlarini yig'indisini umumiy soniga bo'ladi"
      ],
      "metadata": {
        "colab": {
          "base_uri": "https://localhost:8080/"
        },
        "id": "yHIiHI1uOOs0",
        "outputId": "8b58ed5e-b939-44f0-edb1-43d9d2590ba3"
      },
      "execution_count": 15,
      "outputs": [
        {
          "output_type": "execute_result",
          "data": {
            "text/plain": [
              "-0.18086324739554382"
            ]
          },
          "metadata": {},
          "execution_count": 15
        }
      ]
    },
    {
      "cell_type": "code",
      "source": [
        "arr.mean(axis=0)  #bunda ham ustun yoki qatorlar uchun alohida qiymatlar chiqarish mumkin.axis=1 yoki axis=0 berib"
      ],
      "metadata": {
        "colab": {
          "base_uri": "https://localhost:8080/"
        },
        "id": "OD0oSxO4OgyY",
        "outputId": "3e6f1a82-365c-40eb-da51-e65130c61bb6"
      },
      "execution_count": 14,
      "outputs": [
        {
          "output_type": "execute_result",
          "data": {
            "text/plain": [
              "array([-0.71179762,  0.37651891,  0.33784477, -0.59298834, -0.31389396])"
            ]
          },
          "metadata": {},
          "execution_count": 14
        }
      ]
    },
    {
      "cell_type": "code",
      "source": [
        "#cumsum berilgan sonlar ketma-ketligida uzidan oldingi kelgan sonlar yig'indisiga teng qiymatlar chiqaradi\n",
        "arr=np.arange(6)\n",
        "arr\n"
      ],
      "metadata": {
        "colab": {
          "base_uri": "https://localhost:8080/"
        },
        "id": "dVSmQnSyOzrv",
        "outputId": "527efe14-36e3-4792-adf2-ee206cc8c8ec"
      },
      "execution_count": 17,
      "outputs": [
        {
          "output_type": "execute_result",
          "data": {
            "text/plain": [
              "array([0, 1, 2, 3, 4, 5])"
            ]
          },
          "metadata": {},
          "execution_count": 17
        }
      ]
    },
    {
      "cell_type": "code",
      "source": [
        "arr.cumsum()   # hisob kitobini uzingiz qilib olasiz"
      ],
      "metadata": {
        "colab": {
          "base_uri": "https://localhost:8080/"
        },
        "id": "CHX_fgy3P16C",
        "outputId": "93e930ae-3aba-4367-bc0d-54d538173e9f"
      },
      "execution_count": 19,
      "outputs": [
        {
          "output_type": "execute_result",
          "data": {
            "text/plain": [
              "array([ 0,  1,  3,  6, 10, 15])"
            ]
          },
          "metadata": {},
          "execution_count": 19
        }
      ]
    },
    {
      "cell_type": "code",
      "source": [
        "arr.cumprod()"
      ],
      "metadata": {
        "colab": {
          "base_uri": "https://localhost:8080/"
        },
        "id": "0oAg9xx8P5oG",
        "outputId": "8d98e7ef-e46d-49c7-f206-91c562b883ab"
      },
      "execution_count": 20,
      "outputs": [
        {
          "output_type": "execute_result",
          "data": {
            "text/plain": [
              "array([0, 0, 0, 0, 0, 0])"
            ]
          },
          "metadata": {},
          "execution_count": 20
        }
      ]
    },
    {
      "cell_type": "markdown",
      "source": [
        "**Massivga yo'naltirilgan dasturlash** -- \n",
        "tartiblash sortlash"
      ],
      "metadata": {
        "id": "i1hK6tx4Tc0X"
      }
    },
    {
      "cell_type": "code",
      "source": [
        "arr=np.random.randn(7)\n",
        "arr"
      ],
      "metadata": {
        "colab": {
          "base_uri": "https://localhost:8080/"
        },
        "id": "_TanDYk-QEAG",
        "outputId": "894041ef-85c6-4692-f1cd-c7fd85322fc9"
      },
      "execution_count": 26,
      "outputs": [
        {
          "output_type": "execute_result",
          "data": {
            "text/plain": [
              "array([-0.82748001,  0.66214625,  2.08607576,  1.11186326,  0.17767062,\n",
              "        1.63620377, -1.83873546])"
            ]
          },
          "metadata": {},
          "execution_count": 26
        }
      ]
    },
    {
      "cell_type": "code",
      "source": [
        "sorted_arr=np.sort(arr)\n",
        "sorted_arr"
      ],
      "metadata": {
        "colab": {
          "base_uri": "https://localhost:8080/"
        },
        "id": "SyD38JSQTsAs",
        "outputId": "8f927ebd-93ae-45d9-af23-3a735b37e167"
      },
      "execution_count": 31,
      "outputs": [
        {
          "output_type": "execute_result",
          "data": {
            "text/plain": [
              "array([-1.83873546, -0.82748001,  0.17767062,  0.66214625,  1.11186326,\n",
              "        1.63620377,  2.08607576])"
            ]
          },
          "metadata": {},
          "execution_count": 31
        }
      ]
    },
    {
      "cell_type": "code",
      "source": [
        "arr=np.random.randint(12,size=(3,4))\n",
        "arr"
      ],
      "metadata": {
        "colab": {
          "base_uri": "https://localhost:8080/"
        },
        "id": "7l7W0mEPXOGb",
        "outputId": "d3ceee34-e7c3-43af-bfaa-e186b0411cba"
      },
      "execution_count": 33,
      "outputs": [
        {
          "output_type": "execute_result",
          "data": {
            "text/plain": [
              "array([[ 2, 10,  8,  4],\n",
              "       [ 2, 11,  3,  0],\n",
              "       [ 1,  3,  7, 11]])"
            ]
          },
          "metadata": {},
          "execution_count": 33
        }
      ]
    },
    {
      "cell_type": "code",
      "source": [
        "np.sort(arr,axis=0)  # bunda ham ustun yoki satrlar bo'yicha tartiblash mumkin axis"
      ],
      "metadata": {
        "colab": {
          "base_uri": "https://localhost:8080/"
        },
        "id": "h3cyIJe7Xeg3",
        "outputId": "df826d14-0163-45b0-adc4-5006426cff3a"
      },
      "execution_count": 37,
      "outputs": [
        {
          "output_type": "execute_result",
          "data": {
            "text/plain": [
              "array([[ 0,  2,  3, 10],\n",
              "       [ 1,  3,  7, 11],\n",
              "       [ 2,  4,  8, 11]])"
            ]
          },
          "metadata": {},
          "execution_count": 37
        }
      ]
    },
    {
      "cell_type": "code",
      "source": [
        "#   teskari tartibda tartiblash uchun\n",
        "arr=np.random.randn(4)\n",
        "arr"
      ],
      "metadata": {
        "colab": {
          "base_uri": "https://localhost:8080/"
        },
        "id": "1jy4Ov9HXiBh",
        "outputId": "1e9e1321-6059-44df-a63c-e4bad8359ff2"
      },
      "execution_count": 43,
      "outputs": [
        {
          "output_type": "execute_result",
          "data": {
            "text/plain": [
              "array([-0.47215578, -3.0394962 , -0.72329373, -2.49491903])"
            ]
          },
          "metadata": {},
          "execution_count": 43
        }
      ]
    },
    {
      "cell_type": "code",
      "source": [
        "-np.sort(-arr)  #teskari tartibda tartiblash"
      ],
      "metadata": {
        "colab": {
          "base_uri": "https://localhost:8080/"
        },
        "id": "LiG04jjkYoBN",
        "outputId": "0dfcd722-2f44-4bf1-9854-f00ecc9e3f1c"
      },
      "execution_count": 46,
      "outputs": [
        {
          "output_type": "execute_result",
          "data": {
            "text/plain": [
              "array([-0.47215578, -0.72329373, -2.49491903, -3.0394962 ])"
            ]
          },
          "metadata": {},
          "execution_count": 46
        }
      ]
    },
    {
      "cell_type": "markdown",
      "source": [
        "**unique,setdiff1d va in1d**  -- massivga yo'naltirilgan dasturlash"
      ],
      "metadata": {
        "id": "CgsMDRnHaAhb"
      }
    },
    {
      "cell_type": "code",
      "source": [
        "arr=np.array(['osmon','dasturlash','malaka','bilm','yulduz','dasturlash'])\n",
        "arr"
      ],
      "metadata": {
        "colab": {
          "base_uri": "https://localhost:8080/"
        },
        "id": "jnxu0g3nYtdW",
        "outputId": "713cbe5f-1d80-4c44-fc05-cae94d658d8e"
      },
      "execution_count": 48,
      "outputs": [
        {
          "output_type": "execute_result",
          "data": {
            "text/plain": [
              "array(['osmon', 'dasturlash', 'malaka', 'bilm', 'yulduz', 'dasturlash'],\n",
              "      dtype='<U10')"
            ]
          },
          "metadata": {},
          "execution_count": 48
        }
      ]
    },
    {
      "cell_type": "code",
      "source": [
        "np.unique(arr)  #massivdagi takrorlanmas qiymatlarni chiqaradi"
      ],
      "metadata": {
        "colab": {
          "base_uri": "https://localhost:8080/"
        },
        "id": "rHgqxOx6atoP",
        "outputId": "ede7a958-ccd3-4851-ee6a-3b628bc6adb7"
      },
      "execution_count": 53,
      "outputs": [
        {
          "output_type": "execute_result",
          "data": {
            "text/plain": [
              "array(['bilm', 'dasturlash', 'malaka', 'osmon', 'yulduz'], dtype='<U10')"
            ]
          },
          "metadata": {},
          "execution_count": 53
        }
      ]
    },
    {
      "cell_type": "code",
      "source": [
        "arr1=np.array([1,2,56,59,89,6])\n",
        "arr2=np.array([656,25,56,2,1])\n"
      ],
      "metadata": {
        "id": "H4FR5IdGa0A6"
      },
      "execution_count": 54,
      "outputs": []
    },
    {
      "cell_type": "code",
      "source": [
        "np.in1d(arr1,arr2) # arr1 dagi qiymatlarni arr2 ga solishtiradi,va bool tipida qiymat qaytaradi"
      ],
      "metadata": {
        "colab": {
          "base_uri": "https://localhost:8080/"
        },
        "id": "TIb_CQukbQaZ",
        "outputId": "3b5caa10-fef3-4f99-ecf1-3d9b1974b61a"
      },
      "execution_count": 57,
      "outputs": [
        {
          "output_type": "execute_result",
          "data": {
            "text/plain": [
              "array([ True,  True,  True, False, False, False])"
            ]
          },
          "metadata": {},
          "execution_count": 57
        }
      ]
    },
    {
      "cell_type": "code",
      "source": [
        "np.setdiff1d(arr2,arr1)   #arr2 dagi arr1 da yo'q qiymatlarni chiqaradi"
      ],
      "metadata": {
        "colab": {
          "base_uri": "https://localhost:8080/"
        },
        "id": "6z7AhycsbZJA",
        "outputId": "04f046a4-5588-409f-eb41-ea41b676ff87"
      },
      "execution_count": 63,
      "outputs": [
        {
          "output_type": "execute_result",
          "data": {
            "text/plain": [
              "array([ 25, 656])"
            ]
          },
          "metadata": {},
          "execution_count": 63
        }
      ]
    },
    {
      "cell_type": "code",
      "source": [
        ""
      ],
      "metadata": {
        "id": "_NGXSdWtb_4z"
      },
      "execution_count": null,
      "outputs": []
    }
  ]
}