{
  "nbformat": 4,
  "nbformat_minor": 0,
  "metadata": {
    "colab": {
      "name": "indeks_kesib-olish.ipynb",
      "provenance": []
    },
    "kernelspec": {
      "name": "python3",
      "display_name": "Python 3"
    },
    "language_info": {
      "name": "python"
    }
  },
  "cells": [
    {
      "cell_type": "markdown",
      "source": [
        "## **Indeks va kesib olish**\n",
        "\n",
        "\n",
        "---\n",
        "                                                                                                                created by Navruzbek_Abduganiyev\n"
      ],
      "metadata": {
        "id": "8ujNoYRybYQ6"
      }
    },
    {
      "cell_type": "code",
      "execution_count": 2,
      "metadata": {
        "id": "6Fmlu102bX5i"
      },
      "outputs": [],
      "source": [
        "import numpy as np"
      ]
    },
    {
      "cell_type": "code",
      "source": [
        "arr=np.arange(14)  # 1 - o'lchamli massiv yaratib oldik\n",
        "arr"
      ],
      "metadata": {
        "colab": {
          "base_uri": "https://localhost:8080/"
        },
        "id": "KCTT6ei0btrE",
        "outputId": "7ca1290b-cf76-4686-f951-dd4a6b60bc08"
      },
      "execution_count": 17,
      "outputs": [
        {
          "output_type": "execute_result",
          "data": {
            "text/plain": [
              "array([ 0,  1,  2,  3,  4,  5,  6,  7,  8,  9, 10, 11, 12, 13])"
            ]
          },
          "metadata": {},
          "execution_count": 17
        }
      ]
    },
    {
      "cell_type": "code",
      "source": [
        "# bu yerdan 4-8 indekslar oraligini kesib olish u-n\n",
        "arr[4:8]  # usuldan foydalanamiz"
      ],
      "metadata": {
        "colab": {
          "base_uri": "https://localhost:8080/"
        },
        "id": "PCsRCecyb9wh",
        "outputId": "bb76cd62-0fe3-4306-c678-1a77ba445dc0"
      },
      "execution_count": 7,
      "outputs": [
        {
          "output_type": "execute_result",
          "data": {
            "text/plain": [
              "array([4, 5, 6, 7])"
            ]
          },
          "metadata": {},
          "execution_count": 7
        }
      ]
    },
    {
      "cell_type": "code",
      "source": [
        "# bizda arr nomli massiv bor,undan kesib olingan massivga ishlov bersak asosiy massivga ta'sir ko'rsatadi,bajaramiz"
      ],
      "metadata": {
        "id": "PA_I9VehcT3e"
      },
      "execution_count": 9,
      "outputs": []
    },
    {
      "cell_type": "code",
      "source": [
        "arr1=arr[4:8]\n",
        "arr1[:]=0\n",
        "arr\n",
        "# ko'rib turganingizdek kesilgan massivga ishlov berdik,u assosiyga ham ta'sir qildi"
      ],
      "metadata": {
        "colab": {
          "base_uri": "https://localhost:8080/"
        },
        "id": "2GuEoTbMdAGx",
        "outputId": "2b92afa1-aa69-4ad7-b973-bfbbbdd2d14e"
      },
      "execution_count": 14,
      "outputs": [
        {
          "output_type": "execute_result",
          "data": {
            "text/plain": [
              "array([ 0,  1,  2,  3,  0,  0,  0,  0,  8,  9, 10, 11, 12, 13])"
            ]
          },
          "metadata": {},
          "execution_count": 14
        }
      ]
    },
    {
      "cell_type": "code",
      "source": [
        "#ta'sir qilishini oldini olish uchun copy() funksiyasidan foydalanamiz\n",
        "arr1=arr[4:8].copy()\n",
        "arr1[:]=0\n",
        "arr"
      ],
      "metadata": {
        "colab": {
          "base_uri": "https://localhost:8080/"
        },
        "id": "LRkxSLt5dHyB",
        "outputId": "dbaaa7d0-5e99-40b6-f519-2af1a18407df"
      },
      "execution_count": 18,
      "outputs": [
        {
          "output_type": "execute_result",
          "data": {
            "text/plain": [
              "array([ 0,  1,  2,  3,  4,  5,  6,  7,  8,  9, 10, 11, 12, 13])"
            ]
          },
          "metadata": {},
          "execution_count": 18
        }
      ]
    },
    {
      "cell_type": "markdown",
      "source": [
        "**2-o'lchamli massivlarda indeks va keshish**"
      ],
      "metadata": {
        "id": "IsN74XcRd1pK"
      }
    },
    {
      "cell_type": "code",
      "source": [
        "#massiv yaratamiz \n",
        "arr=np.random.randint(100,size=(4,5))\n",
        "arr"
      ],
      "metadata": {
        "colab": {
          "base_uri": "https://localhost:8080/"
        },
        "id": "8RkhRWp9dlZR",
        "outputId": "a79ddcc5-75de-415b-a2f2-367c4ee01981"
      },
      "execution_count": 20,
      "outputs": [
        {
          "output_type": "execute_result",
          "data": {
            "text/plain": [
              "array([[78, 35, 36, 55, 47],\n",
              "       [36, 23,  4, 29, 92],\n",
              "       [97, 14, 96, 64, 45],\n",
              "       [57, 15, 43, 59, 31]])"
            ]
          },
          "metadata": {},
          "execution_count": 20
        }
      ]
    },
    {
      "cell_type": "code",
      "source": [
        "#deylik bizga satrdan 1:2 va ustundan 2:4 (4,29,92,96,64,45) larni kesib olmoqchimiz\n",
        "arr[1:3,2:5]"
      ],
      "metadata": {
        "colab": {
          "base_uri": "https://localhost:8080/"
        },
        "id": "aQYKbBOGeNvf",
        "outputId": "b9ba1c6d-cb06-4f58-d6de-01807840f9c2"
      },
      "execution_count": 23,
      "outputs": [
        {
          "output_type": "execute_result",
          "data": {
            "text/plain": [
              "array([[ 4, 29, 92],\n",
              "       [96, 64, 45]])"
            ]
          },
          "metadata": {},
          "execution_count": 23
        }
      ]
    },
    {
      "cell_type": "code",
      "source": [
        "#boshqa sonlarni kesib olishni  ham ko'rishimiz mumkin\n",
        "arr[1,:]"
      ],
      "metadata": {
        "colab": {
          "base_uri": "https://localhost:8080/"
        },
        "id": "XWvIFtC_eqf1",
        "outputId": "0fe9044d-d26d-4076-9a45-b3f99531a3a1"
      },
      "execution_count": 24,
      "outputs": [
        {
          "output_type": "execute_result",
          "data": {
            "text/plain": [
              "array([36, 23,  4, 29, 92])"
            ]
          },
          "metadata": {},
          "execution_count": 24
        }
      ]
    },
    {
      "cell_type": "code",
      "source": [
        "arr[:,1]"
      ],
      "metadata": {
        "colab": {
          "base_uri": "https://localhost:8080/"
        },
        "id": "Rdc8jImzfJim",
        "outputId": "ade250da-7ac5-4de2-a84e-51001d435bd2"
      },
      "execution_count": 25,
      "outputs": [
        {
          "output_type": "execute_result",
          "data": {
            "text/plain": [
              "array([35, 23, 14, 15])"
            ]
          },
          "metadata": {},
          "execution_count": 25
        }
      ]
    },
    {
      "cell_type": "code",
      "source": [
        "arr[2,2]"
      ],
      "metadata": {
        "colab": {
          "base_uri": "https://localhost:8080/"
        },
        "id": "XXJuOSjffMUm",
        "outputId": "7e4695a1-bc5e-45cc-82b9-fe005d9b0cd2"
      },
      "execution_count": 26,
      "outputs": [
        {
          "output_type": "execute_result",
          "data": {
            "text/plain": [
              "96"
            ]
          },
          "metadata": {},
          "execution_count": 26
        }
      ]
    },
    {
      "cell_type": "markdown",
      "source": [
        "**3-o'lchamli massivlar bilan ishlaymiz**"
      ],
      "metadata": {
        "id": "BlITh_tBfbaz"
      }
    },
    {
      "cell_type": "code",
      "source": [
        "arr=np.random.randint(100,size=(3,4,5))  # hullas shape(3,4,5) \n",
        "arr"
      ],
      "metadata": {
        "colab": {
          "base_uri": "https://localhost:8080/"
        },
        "id": "-pwMIFy9fXbn",
        "outputId": "d25a026f-ba0f-4fa3-95ef-ca89c3a22634"
      },
      "execution_count": 28,
      "outputs": [
        {
          "output_type": "execute_result",
          "data": {
            "text/plain": [
              "array([[[91, 52,  3, 85, 40],\n",
              "        [62, 83, 30, 22, 32],\n",
              "        [ 3,  1, 54, 23, 82],\n",
              "        [68, 52, 45, 14, 20]],\n",
              "\n",
              "       [[89, 73, 23, 38, 73],\n",
              "        [60, 77, 54, 92, 61],\n",
              "        [37, 95, 26, 73, 94],\n",
              "        [ 1, 96, 21, 63, 55]],\n",
              "\n",
              "       [[11, 13, 65, 30, 28],\n",
              "        [12,  9,  0, 32, 21],\n",
              "        [67, 15,  6, 23, 83],\n",
              "        [29, 64, 70, 68, 30]]])"
            ]
          },
          "metadata": {},
          "execution_count": 28
        }
      ]
    },
    {
      "cell_type": "code",
      "source": [
        "#     3-d massivdan kesib olish ham qiyin emas \n",
        "#     Deylik bizdan birinchi o'lchmdan 2:3 satrlar 3:5 ustundagi elementlar kesib olish talabi qo'yilsin\n",
        "arr[0][2:4,3:6]   # sharhlaymiz [0] nechinchi o'rindagi(bizda 3 ta bor),keyin ->[oddiy 2-d massivdan kesishga o'xshash]"
      ],
      "metadata": {
        "colab": {
          "base_uri": "https://localhost:8080/"
        },
        "id": "1WOPYCL5f9Hk",
        "outputId": "efd9cb7d-870b-456c-99d1-74fd36f847dc"
      },
      "execution_count": 30,
      "outputs": [
        {
          "output_type": "execute_result",
          "data": {
            "text/plain": [
              "array([[23, 82],\n",
              "       [14, 20]])"
            ]
          },
          "metadata": {},
          "execution_count": 30
        }
      ]
    },
    {
      "cell_type": "code",
      "source": [
        "#Yanada ko'proq ma'lumot olish uchun numpy.org sahifasidan ma'lumot olishingiz mumkin"
      ],
      "metadata": {
        "id": "16hG32BQgrPI"
      },
      "execution_count": 31,
      "outputs": []
    },
    {
      "cell_type": "code",
      "source": [
        ""
      ],
      "metadata": {
        "id": "V94IxsbihXx0"
      },
      "execution_count": null,
      "outputs": []
    }
  ]
}