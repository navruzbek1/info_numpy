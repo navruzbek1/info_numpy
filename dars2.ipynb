{
  "nbformat": 4,
  "nbformat_minor": 0,
  "metadata": {
    "colab": {
      "name": "ishlov_berish.ipynb",
      "provenance": []
    },
    "kernelspec": {
      "name": "python3",
      "display_name": "Python 3"
    },
    "language_info": {
      "name": "python"
    }
  },
  "cells": [
    {
      "cell_type": "markdown",
      "source": [
        "# **N-o'lchamli massivlarga ishlov berish**\n",
        "\n",
        "\n",
        "---\n",
        "\n",
        "                                                  \n",
        "                                                                                                                created by Navruzbek_Abduganiyev"
      ],
      "metadata": {
        "id": "tWb2Ery1X_23"
      }
    },
    {
      "cell_type": "code",
      "execution_count": 1,
      "metadata": {
        "id": "vZ-Jx3ntX-sA"
      },
      "outputs": [],
      "source": [
        "import numpy as np"
      ]
    },
    {
      "cell_type": "code",
      "source": [
        "arr=np.array([1,23,45,66,9,4])\n",
        "arr"
      ],
      "metadata": {
        "colab": {
          "base_uri": "https://localhost:8080/"
        },
        "id": "EFbCO2OWYa0Y",
        "outputId": "b92ece66-9094-42cc-d63c-0947fc7135a2"
      },
      "execution_count": 6,
      "outputs": [
        {
          "output_type": "execute_result",
          "data": {
            "text/plain": [
              "array([ 1, 23, 45, 66,  9,  4])"
            ]
          },
          "metadata": {},
          "execution_count": 6
        }
      ]
    },
    {
      "cell_type": "markdown",
      "source": [
        "m/t = ma'lumot turi"
      ],
      "metadata": {
        "id": "t1aBMBi0auIH"
      }
    },
    {
      "cell_type": "code",
      "source": [
        "#biz arr nomli massiv yaratib oldik\n",
        "arr.dtype #buyruq orqali m/t sini aniqlab ketishimiz mumkin"
      ],
      "metadata": {
        "colab": {
          "base_uri": "https://localhost:8080/"
        },
        "id": "GOOW3o71YvTq",
        "outputId": "bad2edc4-7940-4090-96f7-c5c9706017c9"
      },
      "execution_count": 8,
      "outputs": [
        {
          "output_type": "execute_result",
          "data": {
            "text/plain": [
              "dtype('int64')"
            ]
          },
          "metadata": {},
          "execution_count": 8
        }
      ]
    },
    {
      "cell_type": "code",
      "source": [
        "#keling shuni int32 m/t ga o'zgartiramiz\n",
        "arr=arr.astype(np.int32)  # astype dan-m/t sini o'zgartirish uchun qo'llanilidi\n",
        "print(f\"{arr}---- ma'lumot turi ->{arr.dtype}\")"
      ],
      "metadata": {
        "colab": {
          "base_uri": "https://localhost:8080/"
        },
        "id": "htpxQHsbZEbk",
        "outputId": "40c744d6-d79e-4207-e46d-fe69f6166602"
      },
      "execution_count": 19,
      "outputs": [
        {
          "output_type": "stream",
          "name": "stdout",
          "text": [
            "[ 1 23 45 66  9  4]---- ma'lumot turi ->int32\n"
          ]
        }
      ]
    },
    {
      "cell_type": "code",
      "source": [
        "# yoki birdaniga ichkarida mu'lumot turini berib ketishimiz mumkin\n",
        "np.array([6,59,598,98],dtype='float64').dtype #float64 qilib kiritib kettik"
      ],
      "metadata": {
        "colab": {
          "base_uri": "https://localhost:8080/"
        },
        "id": "VPdk_qBiZaGz",
        "outputId": "ca551df1-931d-4d5a-b50c-c3d81f5a44a7"
      },
      "execution_count": 16,
      "outputs": [
        {
          "output_type": "execute_result",
          "data": {
            "text/plain": [
              "dtype('float64')"
            ]
          },
          "metadata": {},
          "execution_count": 16
        }
      ]
    },
    {
      "cell_type": "code",
      "source": [
        ""
      ],
      "metadata": {
        "id": "o2jyQ216Z13-"
      },
      "execution_count": null,
      "outputs": []
    }
  ]
}