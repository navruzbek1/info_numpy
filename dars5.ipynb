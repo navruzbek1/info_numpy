{
  "nbformat": 4,
  "nbformat_minor": 0,
  "metadata": {
    "colab": {
      "name": "dars5.ipynb",
      "provenance": []
    },
    "kernelspec": {
      "name": "python3",
      "display_name": "Python 3"
    },
    "language_info": {
      "name": "python"
    }
  },
  "cells": [
    {
      "cell_type": "markdown",
      "source": [
        "## N o'lchamli massivlarga ishlov berish 2\n",
        "\n",
        "---\n",
        "\n",
        "\n",
        "                                                                                                                created by Navruzbek_Abduganiyev"
      ],
      "metadata": {
        "id": "XvlwoScI-9hd"
      }
    },
    {
      "cell_type": "markdown",
      "source": [
        "**Array o'qlarini almashtirish**-swapping axes or transpose"
      ],
      "metadata": {
        "id": "9ZB-UjVW_Mn1"
      }
    },
    {
      "cell_type": "code",
      "execution_count": 2,
      "metadata": {
        "id": "ujKUp5nQ-7Yd"
      },
      "outputs": [],
      "source": [
        "import numpy as np"
      ]
    },
    {
      "cell_type": "code",
      "source": [
        "#deylik m,n mo'lchamili massiv yaratamiz\n",
        "arr=np.random.randint(10,size=(4,5))\n",
        "arr"
      ],
      "metadata": {
        "colab": {
          "base_uri": "https://localhost:8080/"
        },
        "id": "FF8ki_Y-_c3u",
        "outputId": "1624af08-111d-40bf-d00c-95e061cb1f7e"
      },
      "execution_count": 16,
      "outputs": [
        {
          "output_type": "execute_result",
          "data": {
            "text/plain": [
              "array([[9, 1, 3, 0, 6],\n",
              "       [4, 4, 4, 7, 3],\n",
              "       [1, 6, 1, 6, 7],\n",
              "       [2, 8, 5, 0, 0]])"
            ]
          },
          "metadata": {},
          "execution_count": 16
        }
      ]
    },
    {
      "cell_type": "code",
      "source": [
        "#shaklini ko'ramiz\n",
        "arr.shape"
      ],
      "metadata": {
        "colab": {
          "base_uri": "https://localhost:8080/"
        },
        "id": "LPAu3VeTAmKB",
        "outputId": "f77e6c91-c6eb-4cdd-9e83-d83fd1152e34"
      },
      "execution_count": 18,
      "outputs": [
        {
          "output_type": "execute_result",
          "data": {
            "text/plain": [
              "(4, 5)"
            ]
          },
          "metadata": {},
          "execution_count": 18
        }
      ]
    },
    {
      "cell_type": "code",
      "source": [
        "#ushbu massiv o'qlarini ustunlarga almashtirish talab qilinsin,buning uchun .T metodidan foydalanamiz\n",
        "arr1=arr.T\n",
        "arr1"
      ],
      "metadata": {
        "colab": {
          "base_uri": "https://localhost:8080/"
        },
        "id": "wTslE_pP_xba",
        "outputId": "3d31e96e-0ba6-41ff-eb16-470ceed326ed"
      },
      "execution_count": 17,
      "outputs": [
        {
          "output_type": "execute_result",
          "data": {
            "text/plain": [
              "array([[9, 4, 1, 2],\n",
              "       [1, 4, 6, 8],\n",
              "       [3, 4, 1, 5],\n",
              "       [0, 7, 6, 0],\n",
              "       [6, 3, 7, 0]])"
            ]
          },
          "metadata": {},
          "execution_count": 17
        }
      ]
    },
    {
      "cell_type": "code",
      "source": [
        "#shaklini ko'ramiz\n",
        "arr1.shape"
      ],
      "metadata": {
        "colab": {
          "base_uri": "https://localhost:8080/"
        },
        "id": "06sXf1GvAYZH",
        "outputId": "a14ce64b-1e60-4499-a03d-9f101e8bb76e"
      },
      "execution_count": 19,
      "outputs": [
        {
          "output_type": "execute_result",
          "data": {
            "text/plain": [
              "(5, 4)"
            ]
          },
          "metadata": {},
          "execution_count": 19
        }
      ]
    },
    {
      "cell_type": "code",
      "source": [
        "#shuningdek bo'shqa metoddan ham foydalanishimiz mumkin\n",
        "arr.swapaxes(1,0)"
      ],
      "metadata": {
        "colab": {
          "base_uri": "https://localhost:8080/"
        },
        "id": "o5hQuqquAtRz",
        "outputId": "decc275d-fead-431e-f38e-3000e93d7d4b"
      },
      "execution_count": 23,
      "outputs": [
        {
          "output_type": "execute_result",
          "data": {
            "text/plain": [
              "array([[9, 4, 1, 2],\n",
              "       [1, 4, 6, 8],\n",
              "       [3, 4, 1, 5],\n",
              "       [0, 7, 6, 0],\n",
              "       [6, 3, 7, 0]])"
            ]
          },
          "metadata": {},
          "execution_count": 23
        }
      ]
    },
    {
      "cell_type": "code",
      "source": [
        "arr"
      ],
      "metadata": {
        "colab": {
          "base_uri": "https://localhost:8080/"
        },
        "id": "OCBhPcL-BVdP",
        "outputId": "16913608-655b-41b2-f281-10b9a7af380d"
      },
      "execution_count": 25,
      "outputs": [
        {
          "output_type": "execute_result",
          "data": {
            "text/plain": [
              "array([[9, 1, 3, 0, 6],\n",
              "       [4, 4, 4, 7, 3],\n",
              "       [1, 6, 1, 6, 7],\n",
              "       [2, 8, 5, 0, 0]])"
            ]
          },
          "metadata": {},
          "execution_count": 25
        }
      ]
    },
    {
      "cell_type": "code",
      "source": [
        "arr.swapaxes(0,1)   #huddi transpose ishini qilib beradi"
      ],
      "metadata": {
        "colab": {
          "base_uri": "https://localhost:8080/"
        },
        "id": "ZiitNBAMA8_S",
        "outputId": "4cafced1-a394-4632-a263-e977f4679f17"
      },
      "execution_count": 24,
      "outputs": [
        {
          "output_type": "execute_result",
          "data": {
            "text/plain": [
              "array([[9, 4, 1, 2],\n",
              "       [1, 4, 6, 8],\n",
              "       [3, 4, 1, 5],\n",
              "       [0, 7, 6, 0],\n",
              "       [6, 3, 7, 0]])"
            ]
          },
          "metadata": {},
          "execution_count": 24
        }
      ]
    },
    {
      "cell_type": "code",
      "source": [
        "np.dot(arr,arr.T)  # bu yerda hech qanday qo'rqinchli narsa bo'layotgani yo'q.<dot> ko'pytirish mmetodi.\n",
        "#chiziqli algebrada massivlarni bir-biriga ko'paytirayotganda birining ustun soni,ikkinchisining satrlar soniga teng bo'lishi kerak"
      ],
      "metadata": {
        "colab": {
          "base_uri": "https://localhost:8080/"
        },
        "id": "S9D5c9O5BTBs",
        "outputId": "54e33333-e937-45ac-ab4a-9d553bfa0a82"
      },
      "execution_count": 28,
      "outputs": [
        {
          "output_type": "execute_result",
          "data": {
            "text/plain": [
              "array([[127,  70,  60,  41],\n",
              "       [ 70, 106,  95,  60],\n",
              "       [ 60,  95, 123,  55],\n",
              "       [ 41,  60,  55,  93]])"
            ]
          },
          "metadata": {},
          "execution_count": 28
        }
      ]
    },
    {
      "cell_type": "code",
      "source": [
        "np.dot(2,5)  #huddi 2*5 day ayon::)"
      ],
      "metadata": {
        "colab": {
          "base_uri": "https://localhost:8080/"
        },
        "id": "jF5Yr9r9BuCD",
        "outputId": "27154429-11de-4700-eb52-4913b880bc84"
      },
      "execution_count": 30,
      "outputs": [
        {
          "output_type": "execute_result",
          "data": {
            "text/plain": [
              "10"
            ]
          },
          "metadata": {},
          "execution_count": 30
        }
      ]
    },
    {
      "cell_type": "markdown",
      "source": [
        "# **Universal funksiyalar bilan ishlashni o'rganamiz**\n",
        "\n",
        "---\n",
        "Unary -(bitta argument qabul qiluvchi funksiyalar)\n"
      ],
      "metadata": {
        "id": "OmYYW-PuEed5"
      }
    },
    {
      "cell_type": "code",
      "source": [
        "#bunda faqat bitta massiv qabul qiladi\n",
        "arr=np.arange(12).reshape(3,4)\n",
        "arr"
      ],
      "metadata": {
        "colab": {
          "base_uri": "https://localhost:8080/"
        },
        "id": "I2i3NzHWEd33",
        "outputId": "404790d0-4a21-4e7f-f4ae-43139d6482b9"
      },
      "execution_count": 32,
      "outputs": [
        {
          "output_type": "execute_result",
          "data": {
            "text/plain": [
              "array([[ 0,  1,  2,  3],\n",
              "       [ 4,  5,  6,  7],\n",
              "       [ 8,  9, 10, 11]])"
            ]
          },
          "metadata": {},
          "execution_count": 32
        }
      ]
    },
    {
      "cell_type": "code",
      "source": [
        "#sqrt,square,log,sign,modf,exp,isnan va bir qancha unary funksiyalar bor,ulardan maqsadga qarab ishlatiladi\n",
        "np.square(arr)   # massivning qar bir elemntidan kv chiqarib beradi"
      ],
      "metadata": {
        "colab": {
          "base_uri": "https://localhost:8080/"
        },
        "id": "iESaIQjNC3Qa",
        "outputId": "d175ed16-52f7-46c6-a7b4-9884c87bfb22"
      },
      "execution_count": 33,
      "outputs": [
        {
          "output_type": "execute_result",
          "data": {
            "text/plain": [
              "array([[  0,   1,   4,   9],\n",
              "       [ 16,  25,  36,  49],\n",
              "       [ 64,  81, 100, 121]])"
            ]
          },
          "metadata": {},
          "execution_count": 33
        }
      ]
    },
    {
      "cell_type": "markdown",
      "source": [
        "\n",
        "\n",
        "1.   sqrt-kvadrat ildizini qaytaradi\n",
        "2.   square - kvadratini qaytaradi\n",
        "\n",
        "\n",
        "3.   log e - asosga ko'ra hisoblaydi har bir qiymatni\n",
        "4.   sign - son manfiy bolsa -1,0 ga teng bolsa 0,musbat bolsa 1 qaytaradi\n",
        "5.   modf - sonning qoldiq va asos qismlarini ikkiga ajratadi\n",
        "6.   exp - e darajasiga kora hisoblaydi\n",
        "7.   isnan - nan qiymatlarni true aks holda false qaytaradi"
      ],
      "metadata": {
        "id": "HZRCaWgHGFhq"
      }
    },
    {
      "cell_type": "code",
      "source": [
        "#tepadagi barcha usullarni uzingiz sinab ko'rishingiz mumkin,biz modf bilan tanishammiz\n",
        "arr=np.random.randn(4,5)\n",
        "arr"
      ],
      "metadata": {
        "colab": {
          "base_uri": "https://localhost:8080/"
        },
        "id": "vYFQUHmrF684",
        "outputId": "edba0578-53f1-48cb-e1e6-d15a9a52f39d"
      },
      "execution_count": 37,
      "outputs": [
        {
          "output_type": "execute_result",
          "data": {
            "text/plain": [
              "array([[-0.44908045, -0.85888059,  0.40496453, -0.02762133,  1.06576493],\n",
              "       [ 0.5258603 , -0.65922439,  2.19579734, -0.23635479,  0.66762795],\n",
              "       [ 0.53682092, -1.2703466 , -1.23485728,  1.05613417, -0.41367831],\n",
              "       [ 0.13546575, -1.60136672, -0.27848435,  3.09374444,  0.59435683]])"
            ]
          },
          "metadata": {},
          "execution_count": 37
        }
      ]
    },
    {
      "cell_type": "code",
      "source": [
        "qoldiq,asos = np.modf(arr)\n",
        "print(qoldiq,end=\"\\n\\n\\n\\n\")\n",
        "print(asos)"
      ],
      "metadata": {
        "colab": {
          "base_uri": "https://localhost:8080/"
        },
        "id": "B4h3jREiHZjj",
        "outputId": "7aad68c8-0910-4bd3-ccb6-ddbe49832c43"
      },
      "execution_count": 42,
      "outputs": [
        {
          "output_type": "stream",
          "name": "stdout",
          "text": [
            "[[-0.44908045 -0.85888059  0.40496453 -0.02762133  0.06576493]\n",
            " [ 0.5258603  -0.65922439  0.19579734 -0.23635479  0.66762795]\n",
            " [ 0.53682092 -0.2703466  -0.23485728  0.05613417 -0.41367831]\n",
            " [ 0.13546575 -0.60136672 -0.27848435  0.09374444  0.59435683]]\n",
            "\n",
            "\n",
            "\n",
            "[[-0. -0.  0. -0.  1.]\n",
            " [ 0. -0.  2. -0.  0.]\n",
            " [ 0. -1. -1.  1. -0.]\n",
            " [ 0. -1. -0.  3.  0.]]\n"
          ]
        }
      ]
    },
    {
      "cell_type": "code",
      "source": [
        "#Hulosa unary faqat bitta argument qabul qiluvchi funksiya ekan"
      ],
      "metadata": {
        "id": "3810BmPmHgFx"
      },
      "execution_count": 43,
      "outputs": []
    },
    {
      "cell_type": "markdown",
      "source": [
        " Binary funksiyalar - (ikkita atgument qabul qiluvchi funksiyalar)"
      ],
      "metadata": {
        "id": "ey2ek90iIEAs"
      }
    },
    {
      "cell_type": "code",
      "source": [
        "#  add, multiply,maximum - funksiyalar bilan tanishamiz\n",
        "arr1=np.random.randint(9,size=(3,4))\n",
        "arr1"
      ],
      "metadata": {
        "colab": {
          "base_uri": "https://localhost:8080/"
        },
        "id": "hOWVK_oAIC09",
        "outputId": "0abf5cb3-5df9-4d31-9b7d-747cd3c685db"
      },
      "execution_count": 45,
      "outputs": [
        {
          "output_type": "execute_result",
          "data": {
            "text/plain": [
              "array([[0, 3, 2, 3],\n",
              "       [8, 2, 2, 1],\n",
              "       [8, 7, 8, 8]])"
            ]
          },
          "metadata": {},
          "execution_count": 45
        }
      ]
    },
    {
      "cell_type": "code",
      "source": [
        "arr2=np.random.randint(9,size=(3,4))\n",
        "arr2"
      ],
      "metadata": {
        "colab": {
          "base_uri": "https://localhost:8080/"
        },
        "id": "o0nFsnquIXY-",
        "outputId": "7abeb3e9-fdd6-431d-9b45-aa67948f54fa"
      },
      "execution_count": 53,
      "outputs": [
        {
          "output_type": "execute_result",
          "data": {
            "text/plain": [
              "array([[1, 5, 1, 8],\n",
              "       [2, 4, 4, 4],\n",
              "       [7, 4, 6, 3]])"
            ]
          },
          "metadata": {},
          "execution_count": 53
        }
      ]
    },
    {
      "cell_type": "code",
      "source": [
        "#tepadagi funksiyalar massivlar mos elementlarini qo'shib chiqadi"
      ],
      "metadata": {
        "id": "6WH4LzsXIknr"
      },
      "execution_count": 51,
      "outputs": []
    },
    {
      "cell_type": "code",
      "source": [
        "# add - qoshish metodi\n",
        "np.add(arr1,arr2)  #bir narsaga e'tibor bering ikala massiv shakli-(shape) bir xil bo'lishi kerak"
      ],
      "metadata": {
        "colab": {
          "base_uri": "https://localhost:8080/"
        },
        "id": "d3cHrhEDIs8E",
        "outputId": "010fb078-78d7-4c3c-eac1-e0a161b1bdb6"
      },
      "execution_count": 54,
      "outputs": [
        {
          "output_type": "execute_result",
          "data": {
            "text/plain": [
              "array([[ 1,  8,  3, 11],\n",
              "       [10,  6,  6,  5],\n",
              "       [15, 11, 14, 11]])"
            ]
          },
          "metadata": {},
          "execution_count": 54
        }
      ]
    },
    {
      "cell_type": "code",
      "source": [
        "# multiply - kopaytirish metodi\n",
        "# bu massivlarni kopaytirish qonuniyatiga bo'ysinmaydi,shunchaki pazitsiyadosh elementlar ustida amal bajaradi\n",
        "np.multiply(arr1,arr2)"
      ],
      "metadata": {
        "colab": {
          "base_uri": "https://localhost:8080/"
        },
        "id": "3ETzo_iTIxtV",
        "outputId": "6e934a22-2682-4c23-8815-5b7aa5559d48"
      },
      "execution_count": 55,
      "outputs": [
        {
          "output_type": "execute_result",
          "data": {
            "text/plain": [
              "array([[ 0, 15,  2, 24],\n",
              "       [16,  8,  8,  4],\n",
              "       [56, 28, 48, 24]])"
            ]
          },
          "metadata": {},
          "execution_count": 55
        }
      ]
    },
    {
      "cell_type": "code",
      "source": [
        "# maximum - ikki massiv elemlaridan kattasini oladi\n",
        "np.maximum(arr1,arr2)"
      ],
      "metadata": {
        "colab": {
          "base_uri": "https://localhost:8080/"
        },
        "id": "R21tI8oBJQYx",
        "outputId": "54ec5391-9a55-4a4a-f2d3-c5ff1d7c78c9"
      },
      "execution_count": 56,
      "outputs": [
        {
          "output_type": "execute_result",
          "data": {
            "text/plain": [
              "array([[1, 5, 2, 8],\n",
              "       [8, 4, 4, 4],\n",
              "       [8, 7, 8, 8]])"
            ]
          },
          "metadata": {},
          "execution_count": 56
        }
      ]
    },
    {
      "cell_type": "code",
      "source": [
        "# bu korganlarimizni oddiy usulda qilishimiz ham mumkin\n",
        "#deylik massivlarni qo'shmoqchimiz\n",
        "arr1+arr2"
      ],
      "metadata": {
        "colab": {
          "base_uri": "https://localhost:8080/"
        },
        "id": "P-l0YnHLJvIr",
        "outputId": "69ebc81a-1e1c-430f-ea89-7a6c0766f1ec"
      },
      "execution_count": 57,
      "outputs": [
        {
          "output_type": "execute_result",
          "data": {
            "text/plain": [
              "array([[ 1,  8,  3, 11],\n",
              "       [10,  6,  6,  5],\n",
              "       [15, 11, 14, 11]])"
            ]
          },
          "metadata": {},
          "execution_count": 57
        }
      ]
    },
    {
      "cell_type": "code",
      "source": [
        "np.add(arr1,arr2)   #koirganingizdek bir-xil"
      ],
      "metadata": {
        "colab": {
          "base_uri": "https://localhost:8080/"
        },
        "id": "2-gwuG0oJ-Fb",
        "outputId": "eda9cc85-1827-402b-dfc4-198b287b3cbc"
      },
      "execution_count": 59,
      "outputs": [
        {
          "output_type": "execute_result",
          "data": {
            "text/plain": [
              "array([[ 1,  8,  3, 11],\n",
              "       [10,  6,  6,  5],\n",
              "       [15, 11, 14, 11]])"
            ]
          },
          "metadata": {},
          "execution_count": 59
        }
      ]
    },
    {
      "cell_type": "markdown",
      "source": [
        "quyidagi binary funksiyalardan hsm foydalanishimiz mumkin\n",
        "\n",
        "\n",
        "1.   subtract - mos elementlarni ayiradi\n",
        "\n",
        "1.   power - birinchi elementni ikkinchi massivda korsatilgan darajaga (son) ga oshiradi\n",
        "3.   max,min\n",
        "\n",
        "\n",
        "4.   mod - bolinmadan faqat   butun qismini qaytaradi\n",
        "\n",
        "\n",
        "\n",
        "\n"
      ],
      "metadata": {
        "id": "a7v3M3n3KO8-"
      }
    },
    {
      "cell_type": "markdown",
      "source": [
        "## Mantiqiy shart operatori - where"
      ],
      "metadata": {
        "id": "mfu0kccaLmEi"
      }
    },
    {
      "cell_type": "code",
      "source": [
        "# where mahsus  shart operatori bo'lib u shartga ko'ra ishlaydi\n",
        "cond = np.array([True,False,True,False,False,False])"
      ],
      "metadata": {
        "id": "YRd_2NdLMlgI"
      },
      "execution_count": 66,
      "outputs": []
    },
    {
      "cell_type": "code",
      "source": [
        "xarr=np.array([1.1,1.2,1.3,1.4,1.5,1.6])\n",
        "yarr=np.array([2.1,2.2,2.3,2.4,2.5,2.6])"
      ],
      "metadata": {
        "id": "osqoFAm8NdmM"
      },
      "execution_count": 68,
      "outputs": []
    },
    {
      "cell_type": "code",
      "source": [
        "result = np.where(cond,xarr,yarr)  # shartga ko'ra ishlaydi,True bolsa birinchi element,False bolsa ikkinchi elementno oladi\n",
        "result"
      ],
      "metadata": {
        "colab": {
          "base_uri": "https://localhost:8080/"
        },
        "id": "0sl4QQhfNPy1",
        "outputId": "e6232f35-cefb-4466-8409-d3acbf5e433d"
      },
      "execution_count": 69,
      "outputs": [
        {
          "output_type": "execute_result",
          "data": {
            "text/plain": [
              "array([1.1, 2.2, 1.3, 2.4, 2.5, 2.6])"
            ]
          },
          "metadata": {},
          "execution_count": 69
        }
      ]
    },
    {
      "cell_type": "code",
      "source": [
        "arr=np.random.randn(4,4)\n",
        "arr"
      ],
      "metadata": {
        "colab": {
          "base_uri": "https://localhost:8080/"
        },
        "id": "Ae-_q9RLN7Dr",
        "outputId": "ddc77980-342c-4272-f6e4-15a7d9ec602f"
      },
      "execution_count": 70,
      "outputs": [
        {
          "output_type": "execute_result",
          "data": {
            "text/plain": [
              "array([[-0.33238223, -0.07829103, -0.33461724, -0.14846105],\n",
              "       [-0.86669909,  0.53638612, -1.10209655, -2.08144403],\n",
              "       [ 0.77577141, -0.44602668, -1.50621105,  1.23087247],\n",
              "       [-0.77118809,  1.08455127, -0.09371019, -0.85382886]])"
            ]
          },
          "metadata": {},
          "execution_count": 70
        }
      ]
    },
    {
      "cell_type": "code",
      "source": [
        "result=np.where(arr<1,1,0) #arr elementi 1 dan kichik bolsa 0,aks holda 1 qaytaradi#\n",
        "result"
      ],
      "metadata": {
        "colab": {
          "base_uri": "https://localhost:8080/"
        },
        "id": "8FjU_FtuOXhI",
        "outputId": "216f76e3-8a35-4989-bb46-b6be89fa9840"
      },
      "execution_count": 74,
      "outputs": [
        {
          "output_type": "execute_result",
          "data": {
            "text/plain": [
              "array([[1, 1, 1, 1],\n",
              "       [1, 1, 1, 1],\n",
              "       [1, 1, 1, 0],\n",
              "       [1, 0, 1, 1]])"
            ]
          },
          "metadata": {},
          "execution_count": 74
        }
      ]
    },
    {
      "cell_type": "code",
      "source": [
        "#where ham anchagina foydali metod"
      ],
      "metadata": {
        "id": "S6p8b3WXOfiE"
      },
      "execution_count": 75,
      "outputs": []
    }
  ]
}