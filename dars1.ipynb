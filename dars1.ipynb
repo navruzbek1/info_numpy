{
  "nbformat": 4,
  "nbformat_minor": 0,
  "metadata": {
    "colab": {
      "name": "created_numpy.ipynb",
      "provenance": []
    },
    "kernelspec": {
      "name": "python3",
      "display_name": "Python 3"
    },
    "language_info": {
      "name": "python"
    }
  },
  "cells": [
    {
      "cell_type": "markdown",
      "source": [
        "# **Numpy** *kutubxonasi bilan ishlaymiz*\n",
        "numpydan - massivlar yaratish uchun foydalanamiz!!!\n",
        "\n",
        "*massivlar yaratishning bir qancha usullarini ko'rib chiqamiz*\n",
        "\n",
        "---\n",
        "\n",
        "\n",
        "                                                                                                                  created by Navruzbek_Abduganiyev\n",
        "\n",
        "\n",
        "\n",
        "\n",
        "\n",
        "\n"
      ],
      "metadata": {
        "id": "bwjCrEEjOFGe"
      }
    },
    {
      "cell_type": "code",
      "execution_count": 1,
      "metadata": {
        "id": "7GDnk_FqODEz"
      },
      "outputs": [],
      "source": [
        "#numpy kkutubhonasini chaqirib olamiz\n",
        "import numpy as np"
      ]
    },
    {
      "cell_type": "code",
      "source": [
        "#array maxsus funksiya bo'lib,u har qanday turdagi ketma_ket ma'lumotlarni qabul qilib, uni yangi numpy arrayiga o'giradi*/\n",
        "arr=np.array([1,2,3,4])  #listni qabul qildi\n",
        "arr"
      ],
      "metadata": {
        "colab": {
          "base_uri": "https://localhost:8080/"
        },
        "id": "pPLZRFUXOXLB",
        "outputId": "9cde1bef-a98c-4700-f162-88b2213bd9a5"
      },
      "execution_count": 2,
      "outputs": [
        {
          "output_type": "execute_result",
          "data": {
            "text/plain": [
              "array([1, 2, 3, 4])"
            ]
          },
          "metadata": {},
          "execution_count": 2
        }
      ]
    },
    {
      "cell_type": "code",
      "source": [
        "arr=np.array((1,2,3,4,5,6)) #tuple qabul qildi\n",
        "arr"
      ],
      "metadata": {
        "colab": {
          "base_uri": "https://localhost:8080/"
        },
        "id": "FHGMwoXPPjxY",
        "outputId": "1f5a886e-a5d3-438e-b542-83409fce1a7f"
      },
      "execution_count": 3,
      "outputs": [
        {
          "output_type": "execute_result",
          "data": {
            "text/plain": [
              "array([1, 2, 3, 4, 5, 6])"
            ]
          },
          "metadata": {},
          "execution_count": 3
        }
      ]
    },
    {
      "cell_type": "code",
      "source": [
        "#shu  o'rinda ma'lumot turini ham ko'rib ketishimiz mumkin\n",
        "type(arr)"
      ],
      "metadata": {
        "colab": {
          "base_uri": "https://localhost:8080/"
        },
        "id": "PrQYpqd9Pugq",
        "outputId": "a2f6d9c8-ef35-4d74-d7bc-1c595882efa2"
      },
      "execution_count": 6,
      "outputs": [
        {
          "output_type": "execute_result",
          "data": {
            "text/plain": [
              "numpy.ndarray"
            ]
          },
          "metadata": {},
          "execution_count": 6
        }
      ]
    },
    {
      "cell_type": "code",
      "source": [
        "#arraylar bir necha o'lchamli bo'lishi ham mumkin\n",
        "#array o'lchamini bilish uchun mahsus (ndim) - metodi\n",
        "arr=np.array([[1,2,3,4],[5,6,7,8]])\n",
        "print(arr)\n",
        "print(f\"array - o'lchami->{arr.ndim}\")"
      ],
      "metadata": {
        "colab": {
          "base_uri": "https://localhost:8080/"
        },
        "id": "wIaoNOwYP5y5",
        "outputId": "9a886b69-181d-4266-801a-bed12ab61226"
      },
      "execution_count": 13,
      "outputs": [
        {
          "output_type": "stream",
          "name": "stdout",
          "text": [
            "[[1 2 3 4]\n",
            " [5 6 7 8]]\n",
            "array - o'lchami->2\n"
          ]
        }
      ]
    },
    {
      "cell_type": "code",
      "source": [
        "# 3-o'lchamli massiv\n",
        "np.arange(60).reshape(3,4,5)  "
      ],
      "metadata": {
        "colab": {
          "base_uri": "https://localhost:8080/"
        },
        "id": "noAVL3yyVZxB",
        "outputId": "fa4c77fc-cc49-4e45-b60e-625a21cb6224"
      },
      "execution_count": 36,
      "outputs": [
        {
          "output_type": "execute_result",
          "data": {
            "text/plain": [
              "array([[[ 0,  1,  2,  3,  4],\n",
              "        [ 5,  6,  7,  8,  9],\n",
              "        [10, 11, 12, 13, 14],\n",
              "        [15, 16, 17, 18, 19]],\n",
              "\n",
              "       [[20, 21, 22, 23, 24],\n",
              "        [25, 26, 27, 28, 29],\n",
              "        [30, 31, 32, 33, 34],\n",
              "        [35, 36, 37, 38, 39]],\n",
              "\n",
              "       [[40, 41, 42, 43, 44],\n",
              "        [45, 46, 47, 48, 49],\n",
              "        [50, 51, 52, 53, 54],\n",
              "        [55, 56, 57, 58, 59]]])"
            ]
          },
          "metadata": {},
          "execution_count": 36
        }
      ]
    },
    {
      "cell_type": "code",
      "source": [
        "#shuningdek shaklini,uzunligini ham ko'rishimiz mumkin\n",
        "arr.shape #shakli"
      ],
      "metadata": {
        "colab": {
          "base_uri": "https://localhost:8080/"
        },
        "id": "LrA4V_BjQUVg",
        "outputId": "6a18ffd3-714c-43e4-aa4e-1fd099f6f854"
      },
      "execution_count": 14,
      "outputs": [
        {
          "output_type": "execute_result",
          "data": {
            "text/plain": [
              "(2, 4)"
            ]
          },
          "metadata": {},
          "execution_count": 14
        }
      ]
    },
    {
      "cell_type": "code",
      "source": [
        "arr.size  #uzunligi"
      ],
      "metadata": {
        "colab": {
          "base_uri": "https://localhost:8080/"
        },
        "id": "e6o5DwlrRdEd",
        "outputId": "2f3f20e2-e5bd-4e84-acaa-48f0646e6d5b"
      },
      "execution_count": 15,
      "outputs": [
        {
          "output_type": "execute_result",
          "data": {
            "text/plain": [
              "8"
            ]
          },
          "metadata": {},
          "execution_count": 15
        }
      ]
    },
    {
      "cell_type": "code",
      "source": [
        "# n o'lchamli massivlar yaratishning bir necha usullari bor\n",
        "#np.zeros()\n",
        "np.zeros(shape=(4,5)) # 0 lardan tashkil topgan 4,5 o'lchamli massiv"
      ],
      "metadata": {
        "colab": {
          "base_uri": "https://localhost:8080/"
        },
        "id": "LLeVIxnrRe-Z",
        "outputId": "7f7a236d-8fab-4ebb-fdb7-8be2554e87f0"
      },
      "execution_count": 17,
      "outputs": [
        {
          "output_type": "execute_result",
          "data": {
            "text/plain": [
              "array([[0., 0., 0., 0., 0.],\n",
              "       [0., 0., 0., 0., 0.],\n",
              "       [0., 0., 0., 0., 0.],\n",
              "       [0., 0., 0., 0., 0.]])"
            ]
          },
          "metadata": {},
          "execution_count": 17
        }
      ]
    },
    {
      "cell_type": "code",
      "source": [
        "#np.ones()\n",
        "np.ones((4,5)) # 1-lardan tashkil topgan 4,5 o'lchamli massiv"
      ],
      "metadata": {
        "colab": {
          "base_uri": "https://localhost:8080/"
        },
        "id": "ueGwgP_WSOmF",
        "outputId": "e608d6eb-1514-418b-a343-8aed8fe7e01f"
      },
      "execution_count": 19,
      "outputs": [
        {
          "output_type": "execute_result",
          "data": {
            "text/plain": [
              "array([[1., 1., 1., 1., 1.],\n",
              "       [1., 1., 1., 1., 1.],\n",
              "       [1., 1., 1., 1., 1.],\n",
              "       [1., 1., 1., 1., 1.]])"
            ]
          },
          "metadata": {},
          "execution_count": 19
        }
      ]
    },
    {
      "cell_type": "code",
      "source": [
        "#n o'lchamli massiv yaratishda random usulidan ham foydalanishimiz mumkin\n",
        "np.arange(12)  #ketma_ket tartibli 0-11 massiv yaratadi"
      ],
      "metadata": {
        "colab": {
          "base_uri": "https://localhost:8080/"
        },
        "id": "0aU4hONJSoKL",
        "outputId": "7ce5eb4a-fe1e-47f7-c4c9-a4319d7d372c"
      },
      "execution_count": 20,
      "outputs": [
        {
          "output_type": "execute_result",
          "data": {
            "text/plain": [
              "array([ 0,  1,  2,  3,  4,  5,  6,  7,  8,  9, 10, 11])"
            ]
          },
          "metadata": {},
          "execution_count": 20
        }
      ]
    },
    {
      "cell_type": "markdown",
      "source": [
        "\n",
        "\n",
        "1.   random.randint()\n",
        "\n",
        "2.   random.randn()\n",
        "3.   random.rand()\n",
        "\n",
        "\n",
        "\n",
        "\n",
        "\n",
        "\n"
      ],
      "metadata": {
        "id": "y0P7jgiYTPnE"
      }
    },
    {
      "cell_type": "code",
      "source": [
        "np.random.randint(25,size=(4,5))   #butun sonli tepadan 25 gacha chegara (ixtiyoriy tanlaydi)\n",
        "#huddi shunday ko'rinishda qolganlarini ham uzingiz ishlati ko'rishingiz mumkin"
      ],
      "metadata": {
        "colab": {
          "base_uri": "https://localhost:8080/"
        },
        "id": "49G48P0ETFop",
        "outputId": "63a72563-e1fd-4242-9a6e-e27b698f06a0"
      },
      "execution_count": 22,
      "outputs": [
        {
          "output_type": "execute_result",
          "data": {
            "text/plain": [
              "array([[15, 20,  8, 19,  5],\n",
              "       [ 5, 19,  3, 21,  6],\n",
              "       [ 7, 20, 10, 15, 24],\n",
              "       [11, 15,  0,  2, 23]])"
            ]
          },
          "metadata": {},
          "execution_count": 22
        }
      ]
    },
    {
      "cell_type": "code",
      "source": [
        "#reshape metodi ham anchagina foydali hisoblanadi\n",
        "np.arange(20).reshape(4,5) #shaklini o'zgartirib beradi"
      ],
      "metadata": {
        "colab": {
          "base_uri": "https://localhost:8080/"
        },
        "id": "92LEn7xQT3w0",
        "outputId": "f8d52aa0-0f43-4845-b93e-696e4a8ff31f"
      },
      "execution_count": 28,
      "outputs": [
        {
          "output_type": "execute_result",
          "data": {
            "text/plain": [
              "array([[ 0,  1,  2,  3,  4],\n",
              "       [ 5,  6,  7,  8,  9],\n",
              "       [10, 11, 12, 13, 14],\n",
              "       [15, 16, 17, 18, 19]])"
            ]
          },
          "metadata": {},
          "execution_count": 28
        }
      ]
    },
    {
      "cell_type": "code",
      "source": [
        "np.empty((4,5))  #aniq qiymatga ega bo'lmagan (zeros yoki ones ga o'xshamagan) qiymat qaytaradi"
      ],
      "metadata": {
        "colab": {
          "base_uri": "https://localhost:8080/"
        },
        "id": "2T4ltJY0URJb",
        "outputId": "37338cb6-8581-473a-ad03-baedfc22f202"
      },
      "execution_count": 32,
      "outputs": [
        {
          "output_type": "execute_result",
          "data": {
            "text/plain": [
              "array([[4.66160212e-310, 5.23709585e-322, 0.00000000e+000,\n",
              "        0.00000000e+000, 7.21877049e+159],\n",
              "       [1.16095484e-028, 9.01700787e+223, 3.77958589e+233,\n",
              "        9.43732826e-096, 1.22842675e+213],\n",
              "       [2.82963180e+161, 7.62866085e+228, 1.47229765e-052,\n",
              "        7.68121519e+218, 9.30534530e+199],\n",
              "       [6.32672800e+180, 4.74483502e+170, 4.59210323e-072,\n",
              "        3.42134148e+180, 1.03758390e+243]])"
            ]
          },
          "metadata": {},
          "execution_count": 32
        }
      ]
    },
    {
      "cell_type": "code",
      "source": [
        "#massiv yaratishining bir qancha usullari bilan ko'rishib chiqdik"
      ],
      "metadata": {
        "id": "wEQV8l2VUw4r"
      },
      "execution_count": null,
      "outputs": []
    }
  ]
}