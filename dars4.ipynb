{
  "nbformat": 4,
  "nbformat_minor": 0,
  "metadata": {
    "colab": {
      "name": "dars4.ipynb",
      "provenance": []
    },
    "kernelspec": {
      "name": "python3",
      "display_name": "Python 3"
    },
    "language_info": {
      "name": "python"
    }
  },
  "cells": [
    {
      "cell_type": "markdown",
      "source": [
        "# Boolean indekslash\n",
        "\n",
        "---\n",
        "\n",
        "                                                                                                                 created by Navruzbek_Abduganiyev"
      ],
      "metadata": {
        "id": "Yxe7nz34iQmi"
      }
    },
    {
      "cell_type": "code",
      "execution_count": 3,
      "metadata": {
        "id": "ctOlkvtBiQGG"
      },
      "outputs": [],
      "source": [
        "import numpy as np"
      ]
    },
    {
      "cell_type": "markdown",
      "source": [
        "Boolean indekslashning asosiy vazifasi katta ma'lumotlar bilan tegishlilik ma'lumotlarni ajratib olish uchun foydalaniladi.Undan Data Science sohasida keng foydalaniladi"
      ],
      "metadata": {
        "id": "_ZivJNfHjldF"
      }
    },
    {
      "cell_type": "code",
      "source": [
        "countries=np.array([\"UZB\",\"USA\",\"BAA\",\"UK\",\"UZB\",\"MEX\"]) #ushbu massiv uzunligi kesib olinishikerak bo'lgan arr satrlar soniga teng bo']lishi kerk\n",
        "arr=np.random.randint(100,size=(6,5))\n",
        "arr"
      ],
      "metadata": {
        "colab": {
          "base_uri": "https://localhost:8080/"
        },
        "id": "pEMd5nNDiiLz",
        "outputId": "9207dc06-a708-4ff5-f6f3-6b823be0ea2d"
      },
      "execution_count": 31,
      "outputs": [
        {
          "output_type": "execute_result",
          "data": {
            "text/plain": [
              "array([[83, 37, 32, 26, 89],\n",
              "       [97, 94, 47, 99, 80],\n",
              "       [ 9, 45, 98, 93, 91],\n",
              "       [58, 87, 86,  8, 25],\n",
              "       [ 0, 67, 49, 62, 15],\n",
              "       [20, 31, 57, 61, 85]])"
            ]
          },
          "metadata": {},
          "execution_count": 31
        }
      ]
    },
    {
      "cell_type": "code",
      "source": [
        "arr[countries==\"UZB\"]"
      ],
      "metadata": {
        "colab": {
          "base_uri": "https://localhost:8080/"
        },
        "id": "gbHJoB_HjO8t",
        "outputId": "4a945acf-6fb8-4174-820d-88ca2610f2b1"
      },
      "execution_count": 12,
      "outputs": [
        {
          "output_type": "execute_result",
          "data": {
            "text/plain": [
              "array([[79, 27, 81, 31, 81],\n",
              "       [ 9, 97, 91, 96, 35]])"
            ]
          },
          "metadata": {},
          "execution_count": 12
        }
      ]
    },
    {
      "cell_type": "code",
      "source": [
        "arr[countries==[\"USA\"]]"
      ],
      "metadata": {
        "colab": {
          "base_uri": "https://localhost:8080/"
        },
        "id": "wSEfufBIjV0C",
        "outputId": "6cdcb996-d575-4b25-fd79-60e8ba66432d"
      },
      "execution_count": 13,
      "outputs": [
        {
          "output_type": "execute_result",
          "data": {
            "text/plain": [
              "array([[83, 89, 92, 44, 73]])"
            ]
          },
          "metadata": {},
          "execution_count": 13
        }
      ]
    },
    {
      "cell_type": "code",
      "source": [
        "# shuningdek ixtiyoriy indeks tanlashimiz mumkin\n",
        "mask=(countries==\"UZB\") | (countries==\"USA\")\n",
        "arr[mask]"
      ],
      "metadata": {
        "colab": {
          "base_uri": "https://localhost:8080/"
        },
        "id": "SyGHj18AknE6",
        "outputId": "89735a2c-ce09-460e-a187-23fc9aa0df32"
      },
      "execution_count": 20,
      "outputs": [
        {
          "output_type": "execute_result",
          "data": {
            "text/plain": [
              "array([[79, 27, 81, 31, 81],\n",
              "       [83, 89, 92, 44, 73],\n",
              "       [ 9, 97, 91, 96, 35]])"
            ]
          },
          "metadata": {},
          "execution_count": 20
        }
      ]
    },
    {
      "cell_type": "code",
      "source": [
        "# Hullas ikkita arraylardan bir - biriga contact qurish mumkin.Bu usuldan juda ko'p foydalaniladi\n",
        "\n",
        "arr[arr<15]  # bunda ko'rinishda filtirlashni amalga oshirishimiz mumkin,va u ham foydali ham kerakli usuldir"
      ],
      "metadata": {
        "colab": {
          "base_uri": "https://localhost:8080/"
        },
        "id": "Tcau09lXkx4x",
        "outputId": "2ab3964c-979b-46a1-9cac-ab0799bec100"
      },
      "execution_count": 32,
      "outputs": [
        {
          "output_type": "execute_result",
          "data": {
            "text/plain": [
              "array([9, 8, 0])"
            ]
          },
          "metadata": {},
          "execution_count": 32
        }
      ]
    },
    {
      "cell_type": "code",
      "source": [
        "arr[arr>50]  #filtrlash boldimi , 1-o'lchamli massivga taxlaydi"
      ],
      "metadata": {
        "colab": {
          "base_uri": "https://localhost:8080/"
        },
        "id": "_24SzB-Vl-sl",
        "outputId": "c04e9fc4-620a-419d-a8a1-83a5e77966dc"
      },
      "execution_count": 33,
      "outputs": [
        {
          "output_type": "execute_result",
          "data": {
            "text/plain": [
              "array([83, 89, 97, 94, 99, 80, 98, 93, 91, 58, 87, 86, 67, 62, 57, 61, 85])"
            ]
          },
          "metadata": {},
          "execution_count": 33
        }
      ]
    }
  ]
}